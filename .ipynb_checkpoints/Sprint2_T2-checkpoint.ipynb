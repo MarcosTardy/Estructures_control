{
 "cells": [
  {
   "cell_type": "markdown",
   "id": "8a30e462",
   "metadata": {},
   "source": [
    "## Exercici 1"
   ]
  },
  {
   "cell_type": "code",
   "execution_count": 16,
   "id": "6e9133f7",
   "metadata": {},
   "outputs": [
    {
     "name": "stdout",
     "output_type": "stream",
     "text": [
      "Introdueix la nota: 2\n",
      "Has suspès, has d'estudiar més\n"
     ]
    }
   ],
   "source": [
    "#L'exercici consisteix a crear un programa que et classifiqui una variable numèrica en funció de l’escala Suspès/Aprovat/Notable/Excel·lent.\n",
    "#Recorda que Suspès < 5, Aprovat > 5 i < 7, Notable > 7 i < 9 i Excel·lent > 9.\n",
    "x=int(input(\"Introdueix la nota: \"))\n",
    "if x<5:\n",
    "    print(\"Has suspès, has d'estudiar més\")\n",
    "elif x>=5 and x<7:\n",
    "    print(\"Has aprovat\")\n",
    "elif x>=7 and x<9:\n",
    "    print(\"Has tret un Notable\")\n",
    "else:\n",
    "    print(\"Has tret un Excel·lent, felicitats\")\n"
   ]
  },
  {
   "cell_type": "markdown",
   "id": "b95e128c",
   "metadata": {},
   "source": [
    "## Exercici 2"
   ]
  },
  {
   "cell_type": "code",
   "execution_count": 10,
   "id": "36c6dd40",
   "metadata": {},
   "outputs": [
    {
     "name": "stdout",
     "output_type": "stream",
     "text": [
      "Introdueix el primer número: 1\n",
      "Introdueix el segon número: 2\n",
      "El segon és més gran\n"
     ]
    }
   ],
   "source": [
    "#Utilitzant el següent tutorial crea un programa que et pregunti dos números. T’ha de mostrar un missatge dient si el primer és més gran, el segon és més gran o són iguals.\n",
    "def compara(x,y):\n",
    "    if x>y:\n",
    "        print(\"El primer és més gran\")\n",
    "    elif x<y:\n",
    "        print(\"El segon és més gran\")\n",
    "    elif x==y:\n",
    "        print(\"Són iguals\")\n",
    "num1=int(input(\"Introdueix el primer número: \"))\n",
    "num2=int(input(\"Introdueix el segon número: \"))\n",
    "xx=compara(num1,num2)\n"
   ]
  },
  {
   "cell_type": "markdown",
   "id": "6545b883",
   "metadata": {},
   "source": [
    "## Exercici 3\n"
   ]
  },
  {
   "cell_type": "code",
   "execution_count": 12,
   "id": "f8cefbf8",
   "metadata": {},
   "outputs": [
    {
     "name": "stdout",
     "output_type": "stream",
     "text": [
      "Introdueix el teu nom: Marc\n",
      "Introdueix un número: 2\n",
      "Marc\n",
      "Marc\n"
     ]
    }
   ],
   "source": [
    "#Crea un programa que et pregunti el teu nom, i et demani un número. Si el número és 0, hauria de mostrar un missatge d’error. En cas contrari, hauria de mostrar el nom repetit tants cops com indiqui el número. Per exemple, “Joan Joan Joan”.\n",
    "nom=str(input(\"Introdueix el teu nom: \"))\n",
    "num=int(input(\"Introdueix un número: \"))\n",
    "if num==0:\n",
    "    print(\"Error\")\n",
    "for i in range(num):\n",
    "    print(nom)\n"
   ]
  },
  {
   "cell_type": "markdown",
   "id": "4e836ab5",
   "metadata": {},
   "source": [
    "## Exercici 4\n"
   ]
  },
  {
   "cell_type": "code",
   "execution_count": 13,
   "id": "9508bb85",
   "metadata": {},
   "outputs": [
    {
     "name": "stdout",
     "output_type": "stream",
     "text": [
      "La llista és simétrica\n",
      "Té 7 elements.\n"
     ]
    }
   ],
   "source": [
    "#Crea un programa que donada una llista qualsevol, et digui si és simètrica o no. Si ho és, que et digui quants elements té.\n",
    "llista=[1,2,3,1000,3,2,1]\n",
    "mitat=(len(llista)//2)\n",
    "c=0\n",
    "while mitat>c:\n",
    "    if llista[c]==llista[-c-1]:\n",
    "        c=c+1\n",
    "    else:\n",
    "        print(\"La llista no és simétrica\")\n",
    "        break\n",
    "\n",
    "if c==mitat:\n",
    "    print(\"La llista és simétrica\")\n",
    "    print(\"La llista té\", len(llista), \"elements.\")\n",
    "    \n",
    "        "
   ]
  },
  {
   "cell_type": "markdown",
   "id": "131cbdef",
   "metadata": {},
   "source": [
    "## Exercici 5"
   ]
  },
  {
   "cell_type": "code",
   "execution_count": 14,
   "id": "10a6ae65",
   "metadata": {},
   "outputs": [
    {
     "name": "stdout",
     "output_type": "stream",
     "text": [
      "Coincideixen 2 números amb la seva posició.\n"
     ]
    }
   ],
   "source": [
    "#Crea un programa que donada una llista, et digui quants números coincideixen amb la seva posició. Per exemple [3,4,2,0,2,3,6] el 2 i el 6 coincideixen.\n",
    "llista=[3,4,2,0,2,3,6]\n",
    "c=0\n",
    "n=0\n",
    "for i in llista:\n",
    "    if i==c:\n",
    "        c+=1\n",
    "        n+=1\n",
    "    else:\n",
    "        c+=1\n",
    "print(\"Coincideixen\", n, \"números amb la seva posició.\")"
   ]
  },
  {
   "cell_type": "code",
   "execution_count": null,
   "id": "c870fed1",
   "metadata": {},
   "outputs": [],
   "source": []
  }
 ],
 "metadata": {
  "kernelspec": {
   "display_name": "Python 3",
   "language": "python",
   "name": "python3"
  },
  "language_info": {
   "codemirror_mode": {
    "name": "ipython",
    "version": 3
   },
   "file_extension": ".py",
   "mimetype": "text/x-python",
   "name": "python",
   "nbconvert_exporter": "python",
   "pygments_lexer": "ipython3",
   "version": "3.8.8"
  }
 },
 "nbformat": 4,
 "nbformat_minor": 5
}
