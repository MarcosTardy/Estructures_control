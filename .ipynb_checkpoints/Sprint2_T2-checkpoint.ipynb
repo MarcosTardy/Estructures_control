{
 "cells": [
  {
   "cell_type": "markdown",
   "id": "8a30e462",
   "metadata": {},
   "source": [
    "## Exercici 1\n",
    "L'exercici consisteix a crear un programa que et classifiqui una variable numèrica en funció de l’escala Suspès/Aprovat/Notable/Excel·lent.\n",
    "Recorda que Suspès < 5, Aprovat > 5 i < 7, Notable > 7 i < 9 i Excel·lent > 9."
   ]
  },
  {
   "cell_type": "code",
   "execution_count": 18,
   "id": "6e9133f7",
   "metadata": {},
   "outputs": [
    {
     "name": "stdout",
     "output_type": "stream",
     "text": [
      "Agrega la teva nota: 11\n",
      "Nota no vàlida\n"
     ]
    }
   ],
   "source": [
    "def classifica(x):    \n",
    "    if x<5:\n",
    "        print (\"Has suspès, has d'estudiar més\")\n",
    "    elif x<7:\n",
    "        print (\"Has aprovat\")\n",
    "    elif x<9:\n",
    "        print (\"Has tret un Notable\")\n",
    "    elif x>=9 and x<=10:\n",
    "        print (\"Has tret un Excel·lent, felicitats\")\n",
    "    else: \n",
    "        print (\"Nota no vàlida\")\n",
    "\n",
    "nota=float(input(\"Agrega la teva nota: \"))\n",
    "res=classifica(nota)\n",
    "        \n"
   ]
  },
  {
   "cell_type": "markdown",
   "id": "b95e128c",
   "metadata": {},
   "source": [
    "## Exercici 2\n",
    "Utilitzant el següent tutorial crea un programa que et pregunti dos números. T’ha de mostrar un missatge dient si el primer és més gran, el segon és més gran o són iguals.\n"
   ]
  },
  {
   "cell_type": "code",
   "execution_count": null,
   "id": "36c6dd40",
   "metadata": {},
   "outputs": [],
   "source": [
    "def compara(x,y):\n",
    "    if x>y:\n",
    "        print(\"El primer és més gran\")\n",
    "    elif x<y:\n",
    "        print(\"El segon és més gran\")\n",
    "    elif x==y:\n",
    "        print(\"Són iguals\")\n",
    "num1=int(input(\"Introdueix el primer número: \"))\n",
    "num2=int(input(\"Introdueix el segon número: \"))\n",
    "xx=compara(num1,num2)\n"
   ]
  },
  {
   "cell_type": "markdown",
   "id": "6545b883",
   "metadata": {},
   "source": [
    "## Exercici 3\n",
    "Crea un programa que et pregunti el teu nom, i et demani un número. Si el número és 0, hauria de mostrar un missatge d’error. En cas contrari, hauria de mostrar el nom repetit tants cops com indiqui el número. Per exemple, “Joan Joan Joan”.\n"
   ]
  },
  {
   "cell_type": "code",
   "execution_count": 9,
   "id": "f8cefbf8",
   "metadata": {},
   "outputs": [
    {
     "name": "stdout",
     "output_type": "stream",
     "text": [
      "Introdueix el teu nom: Marcos\n",
      "Introdueix un número: 3\n",
      "Marcos\n",
      "Marcos\n",
      "Marcos\n"
     ]
    }
   ],
   "source": [
    "x=str(input(\"Introdueix el teu nom: \"))\n",
    "y=int(input(\"Introdueix un número: \"))\n",
    "\n",
    "def nom_num(nom, num):\n",
    "    if num==0:\n",
    "        print(\"Error\")\n",
    "    else:\n",
    "        for i in range(num):\n",
    "            print(nom)\n",
    "res=nom_num(x,y)    "
   ]
  },
  {
   "cell_type": "markdown",
   "id": "4e836ab5",
   "metadata": {},
   "source": [
    "## Exercici 4\n",
    "Crea un programa que donada una llista qualsevol, et digui si és simètrica o no. Si ho és, que et digui quants elements té.\n"
   ]
  },
  {
   "cell_type": "code",
   "execution_count": 40,
   "id": "22c596b9",
   "metadata": {},
   "outputs": [
    {
     "name": "stdout",
     "output_type": "stream",
     "text": [
      "La llista és simétrica\n"
     ]
    }
   ],
   "source": [
    "def simetria(llista):\n",
    "    llista_nova=list(reversed(llista))\n",
    "\n",
    "    if llista==llista_nova:\n",
    "        print(\"La llista és simétrica\")\n",
    "    else: \n",
    "        print(\"La llista no és simétrica\")\n",
    "    \n",
    "ll=[1,1,2,3,2,1,1]\n",
    "simetria(ll)"
   ]
  },
  {
   "cell_type": "markdown",
   "id": "131cbdef",
   "metadata": {},
   "source": [
    "## Exercici 5\n",
    "Crea un programa que donada una llista, et digui quants números coincideixen amb la seva posició. Per exemple [3,4,2,0,2,3,6] el 2 i el 6 coincideixen.\n"
   ]
  },
  {
   "cell_type": "code",
   "execution_count": 31,
   "id": "10a6ae65",
   "metadata": {},
   "outputs": [
    {
     "name": "stdout",
     "output_type": "stream",
     "text": [
      "Coincideixen 2 números amb la seva posició.\n"
     ]
    }
   ],
   "source": [
    "def coincideix(llista):    \n",
    "    n=0\n",
    "    c=0\n",
    "    for i in llista:\n",
    "        if i==c:\n",
    "            n+=1 \n",
    "        c+=1\n",
    "    print(\"Coincideixen\", n, \"números amb la seva posició.\")\n",
    "ll=[3,4,2,0,2,3,6]\n",
    "coincideix(ll)"
   ]
  },
  {
   "cell_type": "code",
   "execution_count": null,
   "id": "a0b71ef8",
   "metadata": {},
   "outputs": [],
   "source": []
  }
 ],
 "metadata": {
  "kernelspec": {
   "display_name": "Python 3",
   "language": "python",
   "name": "python3"
  },
  "language_info": {
   "codemirror_mode": {
    "name": "ipython",
    "version": 3
   },
   "file_extension": ".py",
   "mimetype": "text/x-python",
   "name": "python",
   "nbconvert_exporter": "python",
   "pygments_lexer": "ipython3",
   "version": "3.8.8"
  }
 },
 "nbformat": 4,
 "nbformat_minor": 5
}
